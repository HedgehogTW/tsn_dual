{
 "cells": [
  {
   "cell_type": "code",
   "execution_count": 2,
   "metadata": {},
   "outputs": [
    {
     "name": "stdout",
     "output_type": "stream",
     "text": [
      "mqtt qos: 1\n",
      "connected OK Returned code= 0\n"
     ]
    },
    {
     "data": {
      "text/plain": [
       "0"
      ]
     },
     "execution_count": 2,
     "metadata": {},
     "output_type": "execute_result"
    },
    {
     "name": "stdout",
     "output_type": "stream",
     "text": [
      "DisConnected result code 0\n"
     ]
    }
   ],
   "source": [
    "import paho.mqtt.client as mqtt\n",
    "import paho.mqtt.publish as publish\n",
    "import time \n",
    "\n",
    "flag_connected = 0\n",
    "# The callback for when the client receives a CONNACK response from the server.\n",
    "def on_connect(client, userdata, flags, rc):\n",
    "    global flag_connected\n",
    "    if rc==0:\n",
    "        print(\"connected OK Returned code=\",rc)\n",
    "        flag_connected = 1\n",
    "    else:\n",
    "        print(\"Bad connection Returned code=\",rc)\n",
    "        flag_connected = 0\n",
    "   \n",
    "   \n",
    "    # Subscribing in on_connect() means that if we lose the connection and\n",
    "    # reconnect then subscriptions will be renewed.\n",
    "    client.subscribe(mqtt_topic) #$SYS/#\")\n",
    "\n",
    "def on_disconnect(client, userdata,rc=0):\n",
    "    global flag_connected\n",
    "    print(\"DisConnected result code \"+str(rc))\n",
    "    flag_connected = 0\n",
    "    client.loop_stop()\n",
    "\n",
    "# The callback for when a PUBLISH message is received from the server.\n",
    "def on_message(client, userdata, msg):\n",
    "    print('\\ton_message:', msg.topic+\" \"+str(msg.payload))\n",
    "\n",
    "def on_publish(client, userdata, mid):\n",
    "    print('\\ton_publish:', mid)\n",
    "\n",
    "mqtt_qos = 1\n",
    "mqtt_topic = 'cclee/train'\n",
    "print('mqtt qos:', mqtt_qos)\n",
    "client = mqtt.Client()\n",
    "client.on_connect = on_connect\n",
    "client.on_disconnect = on_disconnect\n",
    "\n",
    "client.connect(\"140.138.178.116\", 1883, 60)\n",
    "client.loop_start()\n",
    "client.publish(mqtt_topic, 'training start', mqtt_qos)\n",
    "\n",
    "client.publish(mqtt_topic, 'training end', mqtt_qos)\n",
    "time.sleep(1)\n",
    "client.disconnect()"
   ]
  },
  {
   "cell_type": "code",
   "execution_count": null,
   "metadata": {},
   "outputs": [],
   "source": []
  }
 ],
 "metadata": {
  "kernelspec": {
   "display_name": "Python 3",
   "language": "python",
   "name": "python3"
  },
  "language_info": {
   "codemirror_mode": {
    "name": "ipython",
    "version": 3
   },
   "file_extension": ".py",
   "mimetype": "text/x-python",
   "name": "python",
   "nbconvert_exporter": "python",
   "pygments_lexer": "ipython3",
   "version": "3.8.3"
  }
 },
 "nbformat": 4,
 "nbformat_minor": 4
}
