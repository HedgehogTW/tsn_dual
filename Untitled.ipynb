{
 "cells": [
  {
   "cell_type": "code",
   "execution_count": 1,
   "metadata": {},
   "outputs": [],
   "source": [
    "import torch.utils.data as data\n",
    "\n",
    "import os\n",
    "import sys\n",
    "import random\n",
    "import numpy as np\n",
    "import cv2"
   ]
  },
  {
   "cell_type": "code",
   "execution_count": 9,
   "metadata": {},
   "outputs": [
    {
     "name": "stdout",
     "output_type": "stream",
     "text": [
      "(240, 180)\n",
      "(240, 180, 1)\n"
     ]
    }
   ],
   "source": [
    "frame_path = 'D:/tsn_data/921111/frames/Grooming_921111_L06175_06284_110/img_00110.jpg'\n",
    "cv_read_flag = cv2.IMREAD_GRAYSCALE   \n",
    "cv_img_origin = cv2.imread(frame_path, cv_read_flag)\n",
    "print(cv_img_origin.shape)\n",
    "cv2.imshow(\"test\", cv_img_origin)\n",
    "cv2.waitKey(0) # 永久waiting, 直到於視窗上按任意鍵\n",
    "cv2.destroyAllWindows() # 關閉所有opencv視窗\n",
    "img = np.expand_dims(cv_img_origin, 2)\n",
    "print(img.shape)"
   ]
  },
  {
   "cell_type": "code",
   "execution_count": 7,
   "metadata": {},
   "outputs": [
    {
     "name": "stdout",
     "output_type": "stream",
     "text": [
      "(240, 180, 3)\n"
     ]
    }
   ],
   "source": [
    "cv_img = cv2.cvtColor(cv_img_origin, cv2.COLOR_BGR2RGB)\n",
    "print(cv_img.shape)\n",
    "cv2.imshow(\"test\", cv_img)\n",
    "cv2.waitKey(0) # 永久waiting, 直到於視窗上按任意鍵\n",
    "cv2.destroyAllWindows() # 關閉所有opencv視窗"
   ]
  },
  {
   "cell_type": "code",
   "execution_count": 11,
   "metadata": {},
   "outputs": [
    {
     "name": "stdout",
     "output_type": "stream",
     "text": [
      "6\n"
     ]
    }
   ],
   "source": [
    "rgb_length = 3\n",
    "flow_length = 10\n",
    "rgb_is_color = True\n",
    "rgb_channel = (rgb_is_color+1) * rgb_length\n",
    "print(rgb_channel)"
   ]
  },
  {
   "cell_type": "code",
   "execution_count": null,
   "metadata": {},
   "outputs": [],
   "source": []
  }
 ],
 "metadata": {
  "kernelspec": {
   "display_name": "Python 3",
   "language": "python",
   "name": "python3"
  },
  "language_info": {
   "codemirror_mode": {
    "name": "ipython",
    "version": 3
   },
   "file_extension": ".py",
   "mimetype": "text/x-python",
   "name": "python",
   "nbconvert_exporter": "python",
   "pygments_lexer": "ipython3",
   "version": "3.8.3"
  }
 },
 "nbformat": 4,
 "nbformat_minor": 4
}
